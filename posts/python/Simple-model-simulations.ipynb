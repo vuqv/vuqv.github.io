{
 "cells": [
  {
   "cell_type": "raw",
   "id": "91f7fe39",
   "metadata": {
    "vscode": {
     "languageId": "raw"
    }
   },
   "source": [
    "---\n",
    "title: \"Simulateing Aging using a simple model\"\n",
    "author: \"Quyen Vu\"\n",
    "date: \"2025-06-12\"\n",
    "categories: [Python, Visualization]\n",
    "draft: false\n",
    "image: \n",
    "format:\n",
    "  html:\n",
    "    code-fold: false\n",
    "jupyter: python\n",
    "---"
   ]
  },
  {
   "cell_type": "markdown",
   "id": "97717685",
   "metadata": {},
   "source": [
    "### State Variables\n",
    "- \\( F(t) \\): Functional chaperone concentration  \n",
    "- \\( U(t) \\): Non-functional chaperone concentration  \n",
    "- \\( D(t) \\): Degraded (dead) protein concentration  \n",
    "\n",
    "### Parameters\n",
    "\n",
    "- $N$: Number of proteins produced  \n",
    "\n",
    "- $k_{\\text{syn}} $: Chaperone synthesis rate per cell  \n",
    "\n",
    "- $ f_1 $: Fraction of synthesized chaperones that are functional  \n",
    "\n",
    "- $ f_2 $: Refolding rate constant (U → F)  \n",
    "\n",
    "- $ f_3 $: Misfolding rate constant (F → U)  \n",
    "\n",
    "- $ k_d $: Degradation rate of both F and U  \n",
    "\n",
    "### System of ODEs\n",
    "\n",
    "$\n",
    "\\begin{aligned}\n",
    "\\frac{dF}{dt} &= f_1 \\cdot k_{\\text{syn}} \\cdot N + f_2 \\cdot F \\cdot U - f_3 \\cdot F - k_d \\cdot F \\\\\n",
    "\\frac{dU}{dt} &= (1 - f_1) \\cdot k_{\\text{syn}} \\cdot N + f_3 \\cdot F - f_2 \\cdot F \\cdot U - k_d \\cdot U \\\\\n",
    "\\frac{dD}{dt} &= k_d \\cdot F + k_d \\cdot U\n",
    "\\end{aligned}\n",
    "$\n"
   ]
  },
  {
   "cell_type": "code",
   "execution_count": 3,
   "id": "3aae677b",
   "metadata": {},
   "outputs": [],
   "source": [
    "from ipywidgets import interactive, FloatSlider, IntSlider, VBox, Label, HBox, Layout, interactive_output\n",
    "import matplotlib.pyplot as plt\n",
    "import numpy as np\n",
    "from scipy.integrate import odeint\n",
    "from IPython.display import display\n",
    "#  ODE system\n",
    "def chaperone_dynamics(y, t, N, k_syn, f1, f2, f3, kd):\n",
    "    F, U, D = y\n",
    "    dFdt = f1 * k_syn*N + f2 * F * U - kd * F - f3 * F\n",
    "    dUdt = (1 - f1) * k_syn*N + f3 * F - f2 * F * U - kd * U\n",
    "    dDdt = kd * F + kd * U\n",
    "    return [dFdt, dUdt, dDdt]\n",
    "\n",
    "# Plotting function\n",
    "def plot_chaperone_dynamics(N, k_syn, f1, f2, f3, kd, t_max):\n",
    "    F0 = f1 * N\n",
    "    U0 = (1 - f1) * N\n",
    "    y0 = [F0, U0, 0.0]\n",
    "    t = np.linspace(0, t_max, 50000)\n",
    "    solution = odeint(chaperone_dynamics, y0, t, args=(N, k_syn, f1, f2, f3, kd))\n",
    "    F, U, D = solution.T\n",
    "    plt.figure(figsize=(8, 5))\n",
    "    plt.plot(t, F, label='Functional (F)')\n",
    "    plt.plot(t, U, label='Non-functional (U)')\n",
    "    plt.xlabel('Time (s)')\n",
    "    plt.ylabel('Chaperone Level')\n",
    "    plt.title('Chaperone Dynamics (Interactive)')\n",
    "    plt.grid()\n",
    "    plt.legend()\n",
    "    plt.show()\n"
   ]
  },
  {
   "cell_type": "code",
   "execution_count": 4,
   "id": "4b5bb14c",
   "metadata": {},
   "outputs": [
    {
     "data": {
      "application/vnd.jupyter.widget-view+json": {
       "model_id": "ab9d775b88d84a72876efa32aeca1687",
       "version_major": 2,
       "version_minor": 0
      },
      "text/plain": [
       "HBox(children=(VBox(children=(VBox(children=(IntSlider(value=1, description='N', min=1), Label(value='Number o…"
      ]
     },
     "metadata": {},
     "output_type": "display_data"
    },
    {
     "data": {
      "application/vnd.jupyter.widget-view+json": {
       "model_id": "b7608bab86a94641a0b56cc22c9d5f17",
       "version_major": 2,
       "version_minor": 0
      },
      "text/plain": [
       "Output()"
      ]
     },
     "metadata": {},
     "output_type": "display_data"
    }
   ],
   "source": [
    "\n",
    "def param_box(slider, text):\n",
    "    return VBox([slider, Label(text)], layout=Layout(width='350px'))\n",
    "\n",
    "N_slider = param_box(\n",
    "    IntSlider(min=1, max=100, step=1, value=1, description='N'),\n",
    "    \"Number of proteins synthesis at once\"\n",
    ")\n",
    "\n",
    "k_syn_slider = param_box(\n",
    "    FloatSlider(min=0.01, max=1, step=0.01, value=0.1, description='k_syn'),\n",
    "    \"Rate of chaperone synthesis.\"\n",
    ")\n",
    "\n",
    "f1_slider = param_box(\n",
    "    FloatSlider(min=0.01, max=1.0, step=0.01, value=0.1, description='f1'),\n",
    "    \"Frac. of synthesized that are functional.\"\n",
    ")\n",
    "\n",
    "f2_slider = param_box(\n",
    "    FloatSlider(\n",
    "        min=0.0, max=0.005, step=0.0001, value=0.0005, \n",
    "        description='f2', \n",
    "        readout=True,\n",
    "        readout_format='.4f',\n",
    "    ),\n",
    "    \"Refolding eff. (U → F).\"\n",
    ")\n",
    "\n",
    "f3_slider = param_box(\n",
    "    FloatSlider(\n",
    "        min=0.0, max=0.01, step=0.0001, value=0.001, \n",
    "        description='f3',\n",
    "        readout=True,\n",
    "        readout_format='.4f',\n",
    "    ),\n",
    "    \"Misfolding rate (F → U).\"\n",
    ")\n",
    "\n",
    "kd_slider = param_box(\n",
    "    FloatSlider(\n",
    "        min=0.0, max=0.01, step=0.0001, value=0.005, \n",
    "        description='kd',\n",
    "        readout=True,\n",
    "        readout_format='.4f',\n",
    "    ),\n",
    "    \"Degradation rate for F and U.\"\n",
    ")\n",
    "\n",
    "tmax_slider = param_box(\n",
    "    IntSlider(min=0, max=1e4, step=100, value=2000, description='t_max'),\n",
    "    \"Max value of time to simulate.\"\n",
    ")\n",
    "\n",
    "\n",
    "controls = HBox([\n",
    "    VBox([N_slider, k_syn_slider, f1_slider],layout=Layout(border='1px solid gray', padding='10px')),\n",
    "    VBox([f2_slider, f3_slider, kd_slider],layout=Layout(border='1px solid gray', padding='10px')),\n",
    "    VBox([tmax_slider],layout=Layout(border='1px solid gray', padding='10px'))\n",
    "])\n",
    "\n",
    "\n",
    "\n",
    "widget = interactive_output(\n",
    "    plot_chaperone_dynamics,\n",
    "    {\n",
    "        'N': N_slider.children[0],\n",
    "        'k_syn': k_syn_slider.children[0],\n",
    "        'f1': f1_slider.children[0],\n",
    "        'f2': f2_slider.children[0],\n",
    "        'f3': f3_slider.children[0],\n",
    "        'kd': kd_slider.children[0],\n",
    "        't_max': tmax_slider.children[0]\n",
    "    }\n",
    ")\n",
    "\n",
    "display(controls, widget)\n"
   ]
  },
  {
   "cell_type": "code",
   "execution_count": null,
   "id": "0bd8341e",
   "metadata": {},
   "outputs": [],
   "source": []
  }
 ],
 "metadata": {
  "kernelspec": {
   "display_name": "bioenv",
   "language": "python",
   "name": "python3"
  },
  "language_info": {
   "codemirror_mode": {
    "name": "ipython",
    "version": 3
   },
   "file_extension": ".py",
   "mimetype": "text/x-python",
   "name": "python",
   "nbconvert_exporter": "python",
   "pygments_lexer": "ipython3",
   "version": "3.10.16"
  },
  "toc": {
   "base_numbering": 1,
   "nav_menu": {},
   "number_sections": true,
   "sideBar": true,
   "skip_h1_title": false,
   "title_cell": "Table of Contents",
   "title_sidebar": "Contents",
   "toc_cell": false,
   "toc_position": {},
   "toc_section_display": true,
   "toc_window_display": false
  }
 },
 "nbformat": 4,
 "nbformat_minor": 5
}
